{
 "cells": [
  {
   "cell_type": "markdown",
   "metadata": {},
   "source": [
    "* Here's a 4 x 4 matrix which has the parity property：\n",
    "\n",
    "  1 0 1 0\n",
    "  \n",
    "  0 0 0 0\n",
    "  \n",
    "  1 1 1 1\n",
    "  \n",
    "  0 1 0 1\n",
    "  \n",
    "  The sums of the rows are 2, 0, 4 and 2.\n",
    "  \n",
    "  The sums of the columns are 2, 2, 2 and 2.\n",
    "  \n",
    "  We aim to write a program that reads in a matrix and checks if it has the parity property.\n",
    "  \n",
    "  If not, we have to check if the parity property can be established by changing only one bit.\n",
    "  \n",
    "  If this is not possible either, the matrix should be classified as corrupt."
   ]
  },
  {
   "cell_type": "markdown",
   "metadata": {},
   "source": [
    "* If the matrix already has the parity property, print 'OK'.\n",
    "\n",
    "* If the parity property can be established by changing one bit, print 'Change bit (i,j)' where i is the row and j the column of the bit to be changed.\n",
    "\n",
    "* Otherwise, print 'Corrupt'."
   ]
  },
  {
   "cell_type": "markdown",
   "metadata": {},
   "source": [
    "* We have a .txt file that contains lines with some information describing as follows."
   ]
  },
  {
   "cell_type": "code",
   "execution_count": 2,
   "metadata": {},
   "outputs": [
    {
     "name": "stdout",
     "output_type": "stream",
     "text": [
      "OK\n",
      "Change bit (2,3)\n",
      "Corrupt\n",
      "Corrupt\n"
     ]
    }
   ],
   "source": [
    "#!/usr/bin/python3\n",
    "\"\"\"\n",
    "inputdata.txt:\n",
    "4          # the size of the matrix\n",
    "1 0 1 0\n",
    "0 0 0 0\n",
    "1 1 1 1\n",
    "0 1 0 1\n",
    "4          # the size of the matrix\n",
    "1 0 1 0\n",
    "0 0 1 0\n",
    "1 1 1 1\n",
    "0 1 0 1\n",
    "4          # the size of the matrix         \n",
    "1 0 1 0\n",
    "0 1 1 0\n",
    "1 1 1 1\n",
    "0 1 0 1\n",
    "3          # the size of the matrix\n",
    "1 1 1\n",
    "1 1 1\n",
    "1 1 1\n",
    "\n",
    "Hint: No other integers than '0' and '1' will occur in the matrix\n",
    "\"\"\"\n",
    "\n",
    "if __name__ == \"__main__\":\n",
    "    f = open(\"inputdata.txt\", \"r\")\n",
    "    input_dim = f.readline()\n",
    "    while input_dim != '':\n",
    "        dim = int(input_dim)\n",
    "        matrix = []\n",
    "        for current_dim in range(dim):\n",
    "            matrix.append(f.readline())\n",
    "        converted_matrix = []\n",
    "        for row in matrix:\n",
    "            converted_row = []\n",
    "            for element in row.strip().split():\n",
    "                converted_row.append(int(element))\n",
    "            converted_matrix.append(converted_row)\n",
    "\n",
    "        row_odd = 0\n",
    "        count_r = 1\n",
    "        for row in converted_matrix:\n",
    "            if sum(row) % 2 == 0:\n",
    "                True\n",
    "            else:\n",
    "                row_odd += 1\n",
    "                if row_odd == 1:\n",
    "                    x = count_r\n",
    "                elif row_odd > 1:\n",
    "                    break\n",
    "            count_r += 1\n",
    "\n",
    "        column_odd = 0\n",
    "        count_c = 1\n",
    "        for i in range(dim):\n",
    "            sum_of_the_column = 0\n",
    "            for row in converted_matrix:\n",
    "                sum_of_the_column += row[i]\n",
    "            if sum_of_the_column % 2 == 0:\n",
    "                True\n",
    "            else:\n",
    "                column_odd += 1\n",
    "                if column_odd == 1:\n",
    "                    y = count_c\n",
    "                elif column_odd > 1:\n",
    "                    break\n",
    "            count_c += 1\n",
    "\n",
    "        if row_odd == column_odd == 0:\n",
    "            print(\"OK\")\n",
    "        elif row_odd == 1 and column_odd == 1:\n",
    "            print(\"Change bit\",\"({},{})\".format(x,y))\n",
    "        else:\n",
    "            print(\"Corrupt\")\n",
    "\n",
    "        input_dim = f.readline()\n"
   ]
  }
 ],
 "metadata": {
  "kernelspec": {
   "display_name": "Python 3",
   "language": "python",
   "name": "python3"
  },
  "language_info": {
   "codemirror_mode": {
    "name": "ipython",
    "version": 3
   },
   "file_extension": ".py",
   "mimetype": "text/x-python",
   "name": "python",
   "nbconvert_exporter": "python",
   "pygments_lexer": "ipython3",
   "version": "3.6.8"
  }
 },
 "nbformat": 4,
 "nbformat_minor": 4
}
