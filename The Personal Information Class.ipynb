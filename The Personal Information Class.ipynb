{
 "cells": [
  {
   "cell_type": "markdown",
   "metadata": {},
   "source": [
    "We have a .txt file containing lines of instructions.\n",
    "\n",
    "Each line contains an instruction(1~6), each instruction has it's own purpose.\n",
    "\n",
    "1: Initial a person with his/her name.\n",
    "\n",
    "2: Set his/her salary by his/her name.\n",
    "\n",
    "3: Set his/her age by his/her name.\n",
    "\n",
    "4: Print his/her salary by his/her name.\n",
    "\n",
    "5: Print his/her age by his/her name.\n",
    "\n",
    "6: Sort all person in the list by salary and print their names out.\n",
    "\n",
    "* 1 ~ 6 have a name following after the instruction.\n",
    "* 2 & 3 have a salary/age following after the name."
   ]
  },
  {
   "cell_type": "code",
   "execution_count": 1,
   "metadata": {},
   "outputs": [
    {
     "name": "stdout",
     "output_type": "stream",
     "text": [
      "0\n",
      "72\n",
      "Kimiko\n",
      "Jason\n",
      "Andy\n"
     ]
    }
   ],
   "source": [
    "#!/usr/bin/python3\n",
    "\"\"\"\n",
    "inputdata2.txt:\n",
    "1,Jason\n",
    "1,Andy\n",
    "1,Kimiko\n",
    "2,Jason,90\n",
    "3,Jason,72\n",
    "2,Andy,99\n",
    "4,Kimiko\n",
    "5,Jason\n",
    "6\n",
    "\"\"\"\n",
    "\n",
    "class Person(object):\n",
    "\n",
    "    def __init__(self, name):\n",
    "        # Create a person\n",
    "        self.name = name\n",
    "        self.age = 0\n",
    "        self.salary = 0\n",
    "\n",
    "    def setAge(self, age):\n",
    "        self.age = age\n",
    "\n",
    "    def setSalary(self, salary):\n",
    "        self.salary = salary\n",
    "\n",
    "    def getName(self):\n",
    "        # Returns self's name\n",
    "        return self.name\n",
    "\n",
    "    def getAge(self):\n",
    "        # Returns self's age\n",
    "        return self.age\n",
    "\n",
    "    def getSalary(self):\n",
    "        # Returns self's salary\n",
    "        return self.salary\n",
    "\n",
    "    def __lt__(self, other):\n",
    "        # Function for sort function, sort by salary\n",
    "        return self.salary < other.salary\n",
    "\n",
    "    def __str__(self):\n",
    "        # Returns self's name\n",
    "        return self.name\n",
    "\n",
    "if __name__ == \"__main__\":\n",
    "    f = open(\"inputdata2.txt\", \"r\")\n",
    "    pList = []\n",
    "    for line in f.readlines():\n",
    "        target = line.strip().split(\",\")\n",
    "        if target[0] == \"1\":\n",
    "            person = Person(target[1])\n",
    "            pList.append(person)\n",
    "        elif target[0] in [\"2\",\"3\",\"4\",\"5\"]:\n",
    "            for obj in pList:\n",
    "                if target[1] in obj.name:\n",
    "                    if target[0] == \"2\":\n",
    "                        obj.setSalary(int(target[2]))\n",
    "                    elif target[0] == \"3\":\n",
    "                        obj.setAge(int(target[2]))\n",
    "                    else:\n",
    "                        print(obj.salary\\\n",
    "                        if target[0] == \"4\" else obj.age)\n",
    "        elif target[0] == \"6\":\n",
    "            pList.sort()\n",
    "            for p in pList:\n",
    "                print(p)"
   ]
  }
 ],
 "metadata": {
  "kernelspec": {
   "display_name": "Python 3",
   "language": "python",
   "name": "python3"
  },
  "language_info": {
   "codemirror_mode": {
    "name": "ipython",
    "version": 3
   },
   "file_extension": ".py",
   "mimetype": "text/x-python",
   "name": "python",
   "nbconvert_exporter": "python",
   "pygments_lexer": "ipython3",
   "version": "3.6.8"
  }
 },
 "nbformat": 4,
 "nbformat_minor": 4
}
